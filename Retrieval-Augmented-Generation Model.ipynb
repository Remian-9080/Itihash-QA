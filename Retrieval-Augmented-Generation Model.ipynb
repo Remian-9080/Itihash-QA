{
 "cells": [
  {
   "cell_type": "markdown",
   "metadata": {
    "id": "7Tk6rsmT2nIg"
   },
   "source": [
    "## Installing Dependencis"
   ]
  },
  {
   "cell_type": "code",
   "execution_count": null,
   "metadata": {
    "colab": {
     "base_uri": "https://localhost:8080/"
    },
    "id": "RRYSu48huSUW",
    "outputId": "0c522c7f-97c4-4581-ffb0-972ca6056c15"
   },
   "outputs": [],
   "source": [
    "!pip -q install langchain openai tiktoken chromadb pypdf sentence_transformers InstructorEmbedding\n",
    "!pip install -q -U bitsandbytes\n",
    "!pip install -q -U git+https://github.com/huggingface/transformers.git\n",
    "!pip install -q -U git+https://github.com/huggingface/peft.git\n",
    "!pip install -q -U git+https://github.com/huggingface/accelerate.git\n",
    "!pip -q install sentencepiece Xformers einops\n",
    "!pip -q install unstructured pandoc"
   ]
  },
  {
   "cell_type": "code",
   "execution_count": null,
   "metadata": {
    "colab": {
     "base_uri": "https://localhost:8080/"
    },
    "id": "J-KFB7J_u_3L",
    "outputId": "494f0170-0031-41bd-e712-bd8831a3d75d"
   },
   "outputs": [],
   "source": [
    "!pip show langchain"
   ]
  },
  {
   "cell_type": "markdown",
   "metadata": {
    "id": "a3IgejCtLMe-"
   },
   "source": [
    "#Importing libraries"
   ]
  },
  {
   "cell_type": "code",
   "execution_count": null,
   "metadata": {
    "id": "NvwxvhCNLMFU"
   },
   "outputs": [],
   "source": [
    "import torch\n",
    "import transformers\n",
    "from transformers import GenerationConfig, pipeline\n",
    "from transformers import AutoTokenizer, AutoModelForCausalLM\n",
    "from transformers import BitsAndBytesConfig\n",
    "import bitsandbytes as bnb"
   ]
  },
  {
   "cell_type": "markdown",
   "metadata": {
    "id": "8Hgy-UPOLWcS"
   },
   "source": [
    "# Setting up LLM- Stable Vicuna 13B"
   ]
  },
  {
   "cell_type": "code",
   "execution_count": null,
   "metadata": {
    "colab": {
     "base_uri": "https://localhost:8080/",
     "height": 470,
     "referenced_widgets": [
      "9cea3db641bd49fa8583e97610bc378c",
      "54a4c0f65210473ebea264e2b926667c",
      "81eaaf4c6c324e6180a0fed327a487fc",
      "6b2ab47b7669440eb6ace55c64ceed0a",
      "cffd5c8eadf646afab7382f325af34d5",
      "7c02d99b183d46f7921444f3b61f86c3",
      "95ff7f91e48f4304b6b435be55d17141",
      "bf23a6182eb342d0bf9484a0569cbe51",
      "33d4c9024f16458fbf8f68e7c1ac8e07",
      "798b264fb004467bbcdc76dcd362fc06",
      "8c6a5bada4d34efcb586dc251d45a4ef",
      "2777560d6cd64d06a242286e60888918",
      "480b3e6559734c9ea45a4721b983e775",
      "bf3f94a5014647e2b034968f9abace4c",
      "d3da8530a95f46ad9821f6767afa4623",
      "cb020ac43e4d48459c7bdd7506c20ff1",
      "85c67d004445406d81821d9db4622dce",
      "c36f407d926c476db8d6c52266cb9039",
      "7b1c8fe7ae3c4190b14f7f2d410aa179",
      "a2d5e74fff7e4257bd6b5834877a6f56",
      "2d8615cea53b486580febd17fe354318",
      "93d5eca43f944867ab9f0d806379e366",
      "d133945ba9fa40b78084501c01b7cdbf",
      "297ce32f4570431eb3c7d23ff786cf32",
      "4420cefb45fe49b4975029e154e8281b",
      "3a784b383b2b43b6a1769d0f825fbcf7",
      "f2b133495bdd4102927712ca0b3ffbf0",
      "1f30d32d50904f6b8d9517debe4b7974",
      "158105a4e9a2441bbc94d3adcb1f9129",
      "69e6a98355d1436cacaca080fa681328",
      "838d581937ac45f886ba333792a966cf",
      "a4041a59542a41d483244c8240942b59",
      "6b2a6694f6ec438b929eed01245ce3ca",
      "1e1826128a0846e39493f6d475978cf1",
      "c68ed0a3b8a9460bb95fc5776828bcf1",
      "ec26d090354b4d47b58d7c35fbb61d18",
      "421d9080cc324cc2a0bb14f4a0e10e41",
      "8a25f4eaea1749a2af138bc03893f4c2",
      "55086c9687944bb8b701b100b45315af",
      "9ad08e0c3d444ccc9d546b223f694ed1",
      "c9c4c81597ff4ce9b798d8da18a84b5f",
      "a40409121bf74793b37cef7f1152b045",
      "76764d7d2ee740bab5ea4cc1b6513c92",
      "f97695c2d0ec4e6c946135755ba6782e",
      "1191bf01b38b4f4fb890d1f9c7394b61",
      "93097504f48d406d8de1d0dfe336a699",
      "f3afa0bfda434e9ab70a54d47f13570d",
      "719e2f9554ca408d8d3b7412b4dc0e4e",
      "ccd77a5ceac94c55aae5aca523dd4e79",
      "96a004d38b85447a8c1f6eb3ee9ecd01",
      "322539e6f55147d5b0c9fc864fafb31c",
      "3ebdf74fcadb4f528b4bc597f7a09dfa",
      "0c7eab4a335045cc99c31c71457bd33a",
      "f972096130614e36847fc9b38025b435",
      "a6b58169f15d4850bc36d8f5d013a59d",
      "27cef05b29ad4daeb0b4aecd2c6c6d23",
      "0382eb0b8e2b491ba9852da5a85aedd2",
      "ae0aefe879684643b27a9706eb0d5908",
      "f3328c76a2e54553b5094877a205fd63",
      "6efcc28386ed4a89852fb54b18ce93e8",
      "ac3c722745074d8a99465630bf461893",
      "48b561cf744941f59dea56476557a7be",
      "2281bf57162043b99daeeabb83f0d8ac",
      "b16d9f3885a34f1d9abd2dd499ad5636",
      "fc12ba0e797447f687a4251dcc57141e",
      "40cc501e90ea47b7809ad454f27d2cde",
      "836998fde72446c9a430c9728600155f",
      "67fff2ff312d4e7780df1e4f25349173",
      "88c354a067fc4ad494664b0c4e01ca52",
      "0cc123f8d4a44020a391d0ef0e09bbd7",
      "4635d436140f45bd840314f345aa1e5d",
      "33c8927275974554a597430a109aaef0",
      "2b1db62390554ac6ac6e807e94efbb31",
      "5d3ca36da08b4231b5a2d8f1f08ae952",
      "f8cebbb3fdf44dc2af90ec222c283f3b",
      "15193d48ce0949089f083a079a5212b4",
      "820f8d9d96a24389b7d427bd2f0037d6",
      "afcdd83154f24c92b1e639e6289e60cb",
      "c68bd6e75964475a819317ffb87a0b73",
      "07870decb8f74223915bc61a669042fc",
      "d3af285eae8d4efe8e38f56f76530392",
      "0209a307b24d4fdb8e06e03eab752ab8",
      "6b04c5562196443582abc0a013dd74f6",
      "b2f0b7e23c8349d29886ed00cf87b3e4",
      "6ae19671ab9c4c82a4ae6943e025be95",
      "0d9752695c1a4824acaf7ff39e9a59a7",
      "aec76c68c21247e686a5f0d8095342a0",
      "001807a9ee334a3c8674bae0868785ff",
      "7d08d5add29d41d5a762a67835f33851",
      "060205d97d5f4b6d8a7db1152d744b2c",
      "21dd9116e2a046b485cd856b6855f78d",
      "5705abe0e11e4da3a860425b326c1eba",
      "095ce39ed35742aeaa8899a43028c9ae",
      "97ce5c3c34fd4bfb84fb12fdf990cb80",
      "2b9c6e2456dd4a798264ec9fc542059a",
      "26ebefed678e41a6bb91309f6bcd0a84",
      "115f07b84f914f80979ce0024c767d30",
      "2e184c2df6bd4aac911e07fecf7422f6",
      "3828f6f13c5541508ad20221e8d6c721",
      "fb43c1bfe3a848aaa42f30c311e55dc1",
      "57effb251166453194d57733c86cf461",
      "061120c61add4ea193db7ba98802dfb7",
      "4b669a35596b42b9898331a4e2297c54",
      "ab7eb17a28d946609df12415da1668ae",
      "9d3e7f0de5c6429393c49d8e0a25223c",
      "720aed4bad3043f794f97897bae96d19",
      "5293aaa97922453a9926f91bb1038ed2",
      "b5ec9238ddb449d7a01102057e593471",
      "9d2aad2b558a42178f0d98a756ee112d",
      "0799b47c18894040bf6bd838b7025b6d",
      "e2ca5855137040508c5a26ed6ab32347",
      "e6703930261c49509a1646c00b6a3e8e",
      "94926ec6076b460b82bf00122be2882d",
      "d96dd06cf4fa4cf6839edd9f707f9654",
      "27fefbb861ce49cb8e7f161d53a029ea",
      "9eb0326a27de41f9a37a617c0646995a",
      "6cef79a4d6f54ec4970ca60d3022b037",
      "81a1c67784794e6b872b99bf91b17f22",
      "c15fdf79d46f4e9ebd1a758405394144",
      "42d5001e69964bbea6accbe12c3fbc4f",
      "0a59fe48aa6c49ebb2196425d16c1bfc",
      "548064fdd1be4db2970f2f7e2965ab17",
      "69076e0c3a72472382c3dcff57c0300c",
      "c44da29af6e84ec1902e89fbc7216019",
      "1548882bbe544c5a9398b33baab4710b",
      "fe53f11f523f479bbeb2ab5796f4425c",
      "f85d432907a94646bb1d28b93007c4c9",
      "4cb960bdb0484353be6cf8919c1f02af",
      "136fe1b711664f66a03d701d6e6066b3",
      "58c97271f22f47109643e3b13b95505c",
      "72b186129d064469a26f29b52074b55c",
      "09cae5b3d3a549c78159c46ef1a51113",
      "50ab3e7bdd884bb5935c1194163a2634",
      "4d09bcde6072435db56b8f9d63de4b3b",
      "60a87fd7ffc74c08927a8129485f13e6",
      "983bb785cf914d529eb2429051cc0bd9",
      "3d8f18d0fed44048897f34805c7fb8f6",
      "5a7a58bc36eb4ac58a70ba5495a12c46",
      "2a98dfc7613d4f29a644072410655d73",
      "786731c5bcc042f3bb8c8d74dd45da77",
      "b4c14897c18f4769adf71410857e0936",
      "059df50dae0a4b9c98f9c65dd5f5520d",
      "a4bb26ba93f9471ea21ad4cdb7fc706d"
     ]
    },
    "id": "_38HzUkvIewb",
    "outputId": "0a598ffa-5fae-43a0-c7e9-62cd34a4b3a7"
   },
   "outputs": [],
   "source": [
    "import torch\n",
    "import transformers\n",
    "from transformers import LlamaTokenizer, LlamaForCausalLM, GenerationConfig, pipeline\n",
    "\n",
    "tokenizer = LlamaTokenizer.from_pretrained(\"TheBloke/stable-vicuna-13B-HF\")\n",
    "\n",
    "model = LlamaForCausalLM.from_pretrained(\"TheBloke/stable-vicuna-13B-HF\",\n",
    "                                              load_in_8bit=True,\n",
    "                                              device_map='auto',\n",
    "                                              torch_dtype=torch.float16,\n",
    "                                              low_cpu_mem_usage=True\n",
    "                                              )"
   ]
  },
  {
   "cell_type": "markdown",
   "metadata": {
    "id": "EAL8KDcLLgPt"
   },
   "source": [
    "#Establishing Hugging Face pipeline"
   ]
  },
  {
   "cell_type": "code",
   "execution_count": null,
   "metadata": {
    "id": "6G98f4fXI5kT"
   },
   "outputs": [],
   "source": [
    "from transformers import pipeline\n",
    "from langchain.llms import HuggingFacePipeline\n",
    "import torch\n",
    "\n",
    "pipe = pipeline(\n",
    "    \"text-generation\",\n",
    "    model=model,\n",
    "    tokenizer=tokenizer,\n",
    "    max_length=2048,\n",
    "    temperature=0,\n",
    "    top_p=0.95,\n",
    "    repetition_penalty=1.15\n",
    ")\n",
    "\n",
    "local_llm = HuggingFacePipeline(pipeline=pipe)"
   ]
  },
  {
   "cell_type": "code",
   "execution_count": null,
   "metadata": {
    "id": "4C2KUqskPnlo"
   },
   "outputs": [],
   "source": [
    "from langchain.llms import HuggingFacePipeline\n",
    "import torch\n",
    "\n",
    "local_llm = HuggingFacePipeline(pipeline=pipe)"
   ]
  },
  {
   "cell_type": "code",
   "execution_count": null,
   "metadata": {
    "colab": {
     "base_uri": "https://localhost:8080/",
     "height": 160
    },
    "id": "03KSY1JlbjKd",
    "outputId": "ab8c8449-980f-4e05-e245-f5737191ff6e"
   },
   "outputs": [],
   "source": [
    "local_llm('When did bangladesh become independent? ')"
   ]
  },
  {
   "cell_type": "markdown",
   "metadata": {
    "id": "HqwsGJDhvAQ5"
   },
   "source": [
    "## Setting up LangChain\n"
   ]
  },
  {
   "cell_type": "code",
   "execution_count": null,
   "metadata": {
    "id": "dNA4TsHpu6OM"
   },
   "outputs": [],
   "source": [
    "import os\n",
    "\n"
   ]
  },
  {
   "cell_type": "code",
   "execution_count": null,
   "metadata": {
    "id": "XHVE9uFb3Ajj"
   },
   "outputs": [],
   "source": [
    "from langchain.vectorstores import Chroma\n",
    "from langchain.text_splitter import RecursiveCharacterTextSplitter\n",
    "\n",
    "from langchain.chains import RetrievalQA\n",
    "from langchain.document_loaders import TextLoader\n",
    "from langchain.document_loaders import PyPDFLoader\n",
    "from langchain.document_loaders import DirectoryLoader\n"
   ]
  },
  {
   "cell_type": "markdown",
   "metadata": {
    "id": "9UcQKUId3X2M"
   },
   "source": [
    "## Loading multiple and process documents"
   ]
  },
  {
   "cell_type": "code",
   "execution_count": null,
   "metadata": {
    "colab": {
     "base_uri": "https://localhost:8080/"
    },
    "id": "Y5tiUway3Mh7",
    "outputId": "3539b2c0-cc30-41d5-d149-896706c45748"
   },
   "outputs": [],
   "source": [
    "from google.colab import drive\n",
    "drive.mount('/content/drive')"
   ]
  },
  {
   "cell_type": "code",
   "execution_count": null,
   "metadata": {
    "id": "PRSeXXc_3Ypj"
   },
   "outputs": [],
   "source": [
    "# Load and process the text files\n",
    "# loader = TextLoader('single_text_file.txt')\n",
    "loader = DirectoryLoader('/content/drive/MyDrive/EkattorDB/ekattorhisdb/db', glob=\"./*.pdf\", loader_cls=PyPDFLoader)\n",
    "\n",
    "documents = loader.load()"
   ]
  },
  {
   "cell_type": "code",
   "execution_count": null,
   "metadata": {
    "colab": {
     "base_uri": "https://localhost:8080/"
    },
    "id": "vT6KgAIT_BtB",
    "outputId": "c1016610-4656-4343-8cd9-4900c458a501"
   },
   "outputs": [],
   "source": [
    "len(documents)"
   ]
  },
  {
   "cell_type": "code",
   "execution_count": null,
   "metadata": {
    "id": "3__nT0D4Fkmg"
   },
   "outputs": [],
   "source": [
    "#splitting the text into chunks\n",
    "text_splitter = RecursiveCharacterTextSplitter(chunk_size=1000, chunk_overlap=200)\n",
    "texts = text_splitter.split_documents(documents)"
   ]
  },
  {
   "cell_type": "code",
   "execution_count": null,
   "metadata": {
    "colab": {
     "base_uri": "https://localhost:8080/"
    },
    "id": "faD-Ab-Y4W1X",
    "outputId": "6869ceaf-633f-4429-e698-c773d1a88b0b"
   },
   "outputs": [],
   "source": [
    "len(texts)"
   ]
  },
  {
   "cell_type": "code",
   "execution_count": null,
   "metadata": {
    "colab": {
     "base_uri": "https://localhost:8080/"
    },
    "id": "Bg6-9jwU4ja_",
    "outputId": "fffb300c-f22d-491a-dbda-9a2e64b0709d"
   },
   "outputs": [],
   "source": [
    "texts[370]"
   ]
  },
  {
   "cell_type": "markdown",
   "metadata": {
    "id": "-x2pUJ2Mxm2d"
   },
   "source": [
    "## Hugging Face E5 Embeddings"
   ]
  },
  {
   "cell_type": "code",
   "execution_count": null,
   "metadata": {
    "colab": {
     "base_uri": "https://localhost:8080/",
     "height": 433,
     "referenced_widgets": [
      "0d9ec579adb2484ea3dab164b574b293",
      "2c666a78da8e4f72840275ba8bed3fd1",
      "aeae7b6b7fd24f9580c4e196666ebb5c",
      "3bd9451232c6483fb7fd8c93786f6d06",
      "51889f32677d47e28b58dcd55adbcdf0",
      "d57620dd7e0e49e9a42dcb8b8bd4df07",
      "702ade8150d94a70ad58105060ec7a14",
      "da5a8aebe8fe4242b4de43eff50cf470",
      "e6264ee00849403fae44072931341693",
      "37b2c1b8e0264ea1a4ff255669e8f755",
      "9b8b41cf915b49cabf5b39d924402c81",
      "6c30d442d557473d902a75a8cac2b76c",
      "1415f3a1afcc4895afdf8bf61100eb94",
      "4e1d60fadf234fe89e8542f0c8449fe6",
      "b90e6a3cfd2c428cad684448fd85fef7",
      "9a60b170b1d74bd2a7b025b34ed40fea",
      "a10c9d7a56e24fcd869ebc3d41852196",
      "a573c6a557424359bf8e2f0ccf4519b1",
      "916fc3c1f4bc4c0f8018d45095dc13e5",
      "cc475c25aa4c4b3e950718ad4c277c8b",
      "dfa0b69d96ea445cbcd6865fede09ea2",
      "aa34bd67b7c6422bb6deea8fa99c74a1",
      "7d68d0ff0b3d40bfbc982aec26919375",
      "1e4ea58c725444a4b77a4910039b2dab",
      "588e8e55a8b04a3db7d4c3a4aacdfc9a",
      "6a11051f68b847f48708a8a2c839b141",
      "df538fd2cd5e41a897c84242c4fd9091",
      "c1fdb623b76f4e2c9330677990d38135",
      "ecd8f25452fa4f49b60b269938a20eac",
      "1b4d734b4cdb489f9d8432b4bc95b844",
      "7ccb3bbcfc1a46c2945b89186d30e9d2",
      "2606196c80944a058e61f1f487ac10a8",
      "ecf81b71885e40f194506f53536f6c7d",
      "03d896e823a249b68be1fd7cc0e4b8a2",
      "7bcecb761fe54113a84d2f32afa88d01",
      "3a96f9a80f65485995d1fc83e4c969b3",
      "b6c9e96b1de047bc8d16f58686ae62c9",
      "5d104adb96ac48e297e52dca1d95d597",
      "b9b232175fda490e879596546f7d8371",
      "e57def4767414654b89ee47b3a908dca",
      "70ec187fb29a4a36b37c68b0b16c9119",
      "8aae1d536c6748ce81f00ccbbf058784",
      "a674565f48e847748f7adc51680fb412",
      "3d268293411d4684bc6c77c5eb259502",
      "1ec7e8acb091425fa0460788df934698",
      "84ecb77217a34af0b3042950060d2ca7",
      "aaa62f51246749a1b6d5db5954ae94e3",
      "63835bdb1b50466a8362c0b0b894145b",
      "a86c2070b6c14cddb14d9649ec11f0d1",
      "dc052b9c7b3b43dfbe0ebf062b0ad9f7",
      "e4c4b152dbe44f4189dfe8ac5afb7def",
      "331bc790bd1b4ad2a574c6f1059fbd7a",
      "416a648c8f0243fb93c91ce015de3c9a",
      "7db55d5728c14105bbb9ab05117963cf",
      "06ed73c239204afb9d45f1f6efc291ed",
      "69e8a5592e284f55ac6a3c309165b192",
      "e41cd6e8e0eb4db8800db0437ef1c35c",
      "c66f2a403913443c87dfdd3da54cd2c5",
      "754c0588957d4122abdb2548d80e8d74",
      "76e99095347d4b31b91e075762344687",
      "9bfef2dc8250428791f17dee4d3fb8d5",
      "adaef277fb014d7cbb2759b5f258d942",
      "8911cec2be0748ebbb57e76c4bbd1149",
      "d23709b54792454e80a9e46ee62686c6",
      "08656db23c294e98a827c95233e102c1",
      "73503b473dd34b058c623a29585d209a",
      "8b80419ba47940df8bbb28357beebca9",
      "97acb3d430ba4293a2079743012519cb",
      "4747fd0f79c540289d25ac8c77af752b",
      "a2f26dc169bb4ff998965a5d77723cb1",
      "b4d2bc614ee14054944577dd5dfeee79",
      "dbb8f9371f974af392dca37d2df1b821",
      "b66c7ac6fb6043bfab7e5be63117953d",
      "8236558584a44db48dd9b0bc14e40d41",
      "37179b484f4644fb915940eb6c4d4517",
      "eadc2768bfd047a59f40b46a23b08b41",
      "09ce57b336b24299a0892d6ba51c2250",
      "4a678a08ba5648a29ba3b0ed8fdf2e29",
      "32f97049abf24b988c2160bd87ac0698",
      "b7b7e577d01c45309cfcbdb22e4f341a",
      "1f6efbebc65e4924a432554fafd81c70",
      "f79d95c0862a49acb75ff7c1e6cf1fef",
      "fb5e414460b4482f91a82a8b731641b1",
      "3f9666e793de42c2bfc50c24e611170c",
      "5eba0d14d1e8455eb88f510c3295e7b8",
      "7562f2e14eae48e3befcfffb0e1a3631",
      "8ef7f4b6c52a4d0497c526f755653fbc",
      "5e327f5fb0d3406fb02ada40439b38f7",
      "a595273d7ede43f8acda1d4f01ff7086",
      "4091dbe9aaf04218a4b478134ece2093",
      "107e72cd3cfa4e2e91ced5b25f8f50ef",
      "43dffce9589b4b60b6a715606c61873d",
      "1b10f9a469b845db9cfc2dcd8d438f89",
      "ca76bcf830ce42adbf85513e093cbe8f",
      "9e98995648394b37a0a80fb08a9995d0",
      "ed8ff667de5241f99b8f31143b654b91",
      "3c67908ae68643e7a1b64484e4a4e5b0",
      "6564f2be1d384d27bfe1d601ebaacdbc",
      "f1d7529882584e20935b08866142297f",
      "18bb4cab0ed147fd89635e21c3d22831",
      "1ad2d177627b4b5b955daea8e2f1a306",
      "92590c18c04449b18a16447fe6598ab8",
      "58f9bce1a70b48c2829ad8d4313665ce",
      "c93cc4dd0d8945889b00fdff61419ab6",
      "3efbbf28875c4e04ab2150e5603bc8bf",
      "1208056dbba44b26985fef91fc5f22ce",
      "dd42677671cb4037859abee5baace3a4",
      "5b7a09979a4d4974b47c5faf0c1b770c",
      "bb9c3d4f4a0a4941b01b11d5875c11e5",
      "fc6b6980d6aa417e9b63917e1f552941",
      "ed283136bb094983ae75ea0d073a62b3",
      "0deee3dea3a0452e9a6ae3651a7f9521",
      "59958dab47fb4f758ce0e4187519e2f4",
      "55f9667734124444917a78aecd3aec75",
      "5c40cdfc689f4f5db36fc13a9aad82c7",
      "129b4179e5cf46ab941338f71175a611",
      "17d150e6c9664808896e3beb5f92f3f8",
      "a67f15927b6a46c4a258737678901a0e",
      "2221da5c36304dd2a90b24ea0251a0b2",
      "5f5c683f8c4d4e4e9767a57e9e2c3bfd",
      "19c8fe23541143fc8e7b34b511c9adc5",
      "7743a481086841aeb169b5cb5c647e68",
      "f61505aaaea744ebab38d24d8c15e56f",
      "8f86e73931904a679a5e1d14388aad38",
      "5e5d598f63394d5eab03106731828979",
      "1c882bd63aef4e57b900bd88165f9d3f",
      "2c9f16769bd6423492aa1b98de32c341",
      "79f611dd24444664a913721c1e607f86",
      "6457ee78245840babb7dbb3c634c7b86",
      "9d0d99ae594242e2acd611e74c56463c",
      "9721a6b97ade481d9aded6a7f3ee17b2",
      "21e5dac539cf40eab451ad5e19bde601",
      "0c4cf588d72445edaa5f7a07bfcc4b76",
      "2909069b025a4782b37a1dab67b514eb",
      "33d7857e851641b58dafaa718031d9c8",
      "197b11f17d964cd4bc134c9c392c15f0",
      "c5e11e565cd244be8a7e77eb55aff1e4",
      "1ef94e492de5409eab2552a793876199",
      "f73d273cdd864d25b09abd22794fb9b6",
      "7d211c1171914022b6902cd6f7ec9183",
      "3e9c8937398841b09eee2dc5a728d6e0",
      "b23bacfe6a7948a88a1da0618934c4fc",
      "186d451400a84ebdb5dca27ea8e7ca45"
     ]
    },
    "id": "uwII3CSHxgsM",
    "outputId": "554aa6b8-1b30-49cb-95f3-a7e0dcf92910"
   },
   "outputs": [],
   "source": [
    "from langchain.embeddings import HuggingFaceEmbeddings, SentenceTransformerEmbeddings\n",
    "\n",
    "model_name = \"intfloat/e5-large-v2\"\n",
    "\n",
    "hf = HuggingFaceEmbeddings(model_name=model_name)"
   ]
  },
  {
   "cell_type": "markdown",
   "metadata": {
    "id": "YsYsIy8F4cdm"
   },
   "source": [
    "## Creating the VectorDB"
   ]
  },
  {
   "cell_type": "code",
   "execution_count": null,
   "metadata": {
    "id": "Q_eTIZwf4Dk2"
   },
   "outputs": [],
   "source": [
    "# Embed and store the texts\n",
    "# Supplying a persist_directory will store the embeddings on disk\n",
    "persist_directory = 'db'\n",
    "\n",
    "## Here is the nmew embeddings being used\n",
    "embedding = hf #instructor_embeddings\n",
    "\n",
    "vectordb = Chroma.from_documents(documents=texts,\n",
    "                                 embedding=embedding,\n",
    "                                 persist_directory=persist_directory)"
   ]
  },
  {
   "cell_type": "markdown",
   "metadata": {
    "id": "siLXR-XT0JoI"
   },
   "source": [
    "## Making a retriever"
   ]
  },
  {
   "cell_type": "code",
   "execution_count": null,
   "metadata": {
    "id": "6ObunFU30Lxh"
   },
   "outputs": [],
   "source": [
    "retriever = vectordb.as_retriever()"
   ]
  },
  {
   "cell_type": "code",
   "execution_count": null,
   "metadata": {
    "id": "cYA-H59u0Skn"
   },
   "outputs": [],
   "source": [
    "docs = retriever.get_relevant_documents(\"When did bangladesh become independent?\")"
   ]
  },
  {
   "cell_type": "code",
   "execution_count": null,
   "metadata": {
    "colab": {
     "base_uri": "https://localhost:8080/"
    },
    "id": "h0iAuh_B0ZjE",
    "outputId": "879dcc72-0fd5-4852-bea9-bc88c3870fc7"
   },
   "outputs": [],
   "source": [
    "len(docs)"
   ]
  },
  {
   "cell_type": "code",
   "execution_count": null,
   "metadata": {
    "colab": {
     "base_uri": "https://localhost:8080/"
    },
    "id": "Vws1udbPaPmQ",
    "outputId": "a76118b8-d3e2-4409-fd30-18da82b805a8"
   },
   "outputs": [],
   "source": [
    "docs[0]"
   ]
  },
  {
   "cell_type": "code",
   "execution_count": null,
   "metadata": {
    "id": "jVWgPJXs1yRq"
   },
   "outputs": [],
   "source": [
    "retriever = vectordb.as_retriever(search_kwargs={\"k\": 3})"
   ]
  },
  {
   "cell_type": "code",
   "execution_count": null,
   "metadata": {
    "colab": {
     "base_uri": "https://localhost:8080/",
     "height": 35
    },
    "id": "H4N0IhRM0hHL",
    "outputId": "ac59b8d7-a938-43ab-f417-209f55d24c5b"
   },
   "outputs": [],
   "source": [
    "retriever.search_type"
   ]
  },
  {
   "cell_type": "code",
   "execution_count": null,
   "metadata": {
    "colab": {
     "base_uri": "https://localhost:8080/"
    },
    "id": "4jXL9u-u0prF",
    "outputId": "95451959-ca1c-42be-c72b-8b31d976df8a"
   },
   "outputs": [],
   "source": [
    "retriever.search_kwargs"
   ]
  },
  {
   "cell_type": "markdown",
   "metadata": {
    "id": "4Ia-4OXa5IeP"
   },
   "source": [
    "# Creating the chain to answer questions"
   ]
  },
  {
   "cell_type": "code",
   "execution_count": null,
   "metadata": {
    "id": "MGx8XblM4shW"
   },
   "outputs": [],
   "source": [
    "\n",
    "\n",
    "# llm = ChatOpenAI(temperature = 0.0)\n",
    "\n",
    "qa_chain = RetrievalQA.from_chain_type(llm=local_llm,\n",
    "                                  chain_type=\"stuff\",\n",
    "                                  retriever=retriever,\n",
    "                                  return_source_documents=True)\n",
    "\n"
   ]
  },
  {
   "cell_type": "code",
   "execution_count": null,
   "metadata": {
    "colab": {
     "base_uri": "https://localhost:8080/"
    },
    "id": "M_FnI2wMfuwP",
    "outputId": "7cafaba2-2952-4ac3-c8f7-fae834f50ade"
   },
   "outputs": [],
   "source": [
    "print(qa_chain.combine_documents_chain.llm_chain.prompt.template)"
   ]
  },
  {
   "cell_type": "code",
   "execution_count": null,
   "metadata": {
    "id": "lp2e3Sh25zY2"
   },
   "outputs": [],
   "source": [
    "# print(qa_chain.combine_documents_chain.llm_chain.prompt.messages[0].prompt.template)"
   ]
  },
  {
   "cell_type": "markdown",
   "metadata": {
    "id": "D6rjXGHrMHko"
   },
   "source": [
    "## Prompting template for the LLM"
   ]
  },
  {
   "cell_type": "code",
   "execution_count": null,
   "metadata": {
    "id": "ygJC5Xqw6liS"
   },
   "outputs": [],
   "source": [
    "qa_chain.combine_documents_chain.llm_chain.prompt.template = '''\n",
    "Your name is EkattorQA. You are an expert at Bangladesh History.\n",
    "Use the following pieces of context to answer the users question.\n",
    "If you don't know the answer, just say that you don't know, don't try to make up an answer.\n",
    "Always answer from the perspective of being Bangladesh History.\n",
    "----------------\n",
    "{context}\n",
    "\n",
    "Question: {question}\n",
    "Helpful Answer:'''"
   ]
  },
  {
   "cell_type": "markdown",
   "metadata": {
    "id": "YE7mbLZ9MPhZ"
   },
   "source": [
    "## Prosessing the llm responses"
   ]
  },
  {
   "cell_type": "code",
   "execution_count": null,
   "metadata": {
    "id": "71tA-xtBDiSz"
   },
   "outputs": [],
   "source": [
    "def trim_string(input_string):\n",
    "    input_string = str(input_string)\n",
    "    trim_index = input_string.find(\"### Human:\")\n",
    "    if trim_index != -1:  # If the phrase is found\n",
    "        return input_string[:trim_index]\n",
    "    else:\n",
    "        return input_string  # If the phrase isn't found, return the original string"
   ]
  },
  {
   "cell_type": "code",
   "execution_count": null,
   "metadata": {
    "id": "LZEo26mw8e5k"
   },
   "outputs": [],
   "source": [
    "## Cite sources\n",
    "\n",
    "import textwrap\n",
    "\n",
    "def wrap_text_preserve_newlines(text, width=110):\n",
    "    # Split the input text into lines based on newline characters\n",
    "    lines = text.split('\\n')\n",
    "\n",
    "    # Wrap each line individually\n",
    "    wrapped_lines = [textwrap.fill(line, width=width) for line in lines]\n",
    "\n",
    "    # Join the wrapped lines back together using newline characters\n",
    "    wrapped_text = '\\n'.join(wrapped_lines)\n",
    "\n",
    "    return wrapped_text\n",
    "\n",
    "def process_llm_response(llm_response):\n",
    "    temp_resp = wrap_text_preserve_newlines(llm_response['result'])\n",
    "    temp_resp = trim_string(temp_resp)\n",
    "    print(temp_resp)\n",
    "    print('\\n\\nSources:')\n",
    "    for source in llm_response[\"source_documents\"]:\n",
    "        print(source.metadata['source'])"
   ]
  },
  {
   "cell_type": "markdown",
   "metadata": {
    "id": "HkwTuoC8I25p"
   },
   "source": [
    "#Evaluation of **60 Questions** based on 3 difficulty level(Easy, Medium, and Hard)"
   ]
  },
  {
   "cell_type": "code",
   "execution_count": null,
   "metadata": {
    "colab": {
     "base_uri": "https://localhost:8080/"
    },
    "id": "etVEtx-44wqr",
    "outputId": "62775f36-13b7-44e7-bce1-d429516e1430"
   },
   "outputs": [],
   "source": [
    "#Example in English\n",
    "query = \"When did bangladesh become independent? \"\n",
    "llm_response = qa_chain(query)\n",
    "process_llm_response(llm_response)"
   ]
  },
  {
   "cell_type": "code",
   "execution_count": null,
   "metadata": {
    "colab": {
     "base_uri": "https://localhost:8080/"
    },
    "id": "iBljeBbWf7eb",
    "outputId": "ae169d0c-bc9f-4ae2-fd44-16bfd038eb89"
   },
   "outputs": [],
   "source": [
    "#Example in English\n",
    "query = \"Who was Sir Cyril Radcliffe?\"\n",
    "llm_response = qa_chain(query)\n",
    "process_llm_response(llm_response)"
   ]
  },
  {
   "cell_type": "code",
   "execution_count": null,
   "metadata": {
    "colab": {
     "base_uri": "https://localhost:8080/"
    },
    "id": "J3iR4jMxgq9e",
    "outputId": "66eb4bf2-a630-428e-d052-9f9bfd391930"
   },
   "outputs": [],
   "source": [
    "#Example in English\n",
    "query = \"What was the outcome of the demand for greater autonomy in East Pakistan?\"\n",
    "llm_response = qa_chain(query)\n",
    "process_llm_response(llm_response)"
   ]
  },
  {
   "cell_type": "code",
   "execution_count": null,
   "metadata": {
    "colab": {
     "base_uri": "https://localhost:8080/"
    },
    "id": "9QjatuuohdTK",
    "outputId": "392c5819-8b1f-4251-fb5b-fd86e7b8204f"
   },
   "outputs": [],
   "source": [
    "#Example in English\n",
    "query = \"What was the impact of the partition on migration?\"\n",
    "llm_response = qa_chain(query)\n",
    "process_llm_response(llm_response)"
   ]
  },
  {
   "cell_type": "code",
   "execution_count": null,
   "metadata": {
    "colab": {
     "base_uri": "https://localhost:8080/"
    },
    "id": "uaFV61rWin1G",
    "outputId": "d443610d-1b74-4214-b488-7cb44b5c7a1e"
   },
   "outputs": [],
   "source": [
    "#Example in English\n",
    "query = \"Who succeeded Liaquat Ali Khan as prime minister?v\"\n",
    "llm_response = qa_chain(query)\n",
    "process_llm_response(llm_response)"
   ]
  },
  {
   "cell_type": "code",
   "execution_count": null,
   "metadata": {
    "colab": {
     "base_uri": "https://localhost:8080/"
    },
    "id": "eLHl_aF1ioQf",
    "outputId": "11d00590-7888-4aae-bf3c-191220d64d0c"
   },
   "outputs": [],
   "source": [
    "#Example in English\n",
    "query = \"What was the cause of the 1965 clash between India and Pakistan?\"\n",
    "llm_response = qa_chain(query)\n",
    "process_llm_response(llm_response)"
   ]
  },
  {
   "cell_type": "code",
   "execution_count": null,
   "metadata": {
    "colab": {
     "base_uri": "https://localhost:8080/"
    },
    "id": "jy5XcZ6jiokT",
    "outputId": "adba840e-4fae-4ac2-b9a0-b24c7fe15a4d"
   },
   "outputs": [],
   "source": [
    "#Example in English\n",
    "query = \"How many seats did the Awami League win in the 1970 elections in East Pakistan?\"\n",
    "llm_response = qa_chain(query)\n",
    "process_llm_response(llm_response)"
   ]
  },
  {
   "cell_type": "code",
   "execution_count": null,
   "metadata": {
    "colab": {
     "base_uri": "https://localhost:8080/"
    },
    "id": "d-uU1VWKiojJ",
    "outputId": "2046826c-82d6-4348-c6b1-748f4755f90f"
   },
   "outputs": [],
   "source": [
    "#Example in English\n",
    "query = \"What was the outcome of the disagreement between the ruling authorities in Pakistan and the Awami League over autonomy for East Pakistan?\"\n",
    "llm_response = qa_chain(query)\n",
    "process_llm_response(llm_response)"
   ]
  },
  {
   "cell_type": "code",
   "execution_count": null,
   "metadata": {
    "colab": {
     "base_uri": "https://localhost:8080/"
    },
    "id": "oLG1wfLplLXS",
    "outputId": "2e30b37c-8eb5-4fdb-d5d6-64afc9cd8b59"
   },
   "outputs": [],
   "source": [
    "#Example in English\n",
    "query = \"What were the local paramilitary forces in Bangladesh that supported the Pakistani cause called?\"\n",
    "llm_response = qa_chain(query)\n",
    "process_llm_response(llm_response)"
   ]
  },
  {
   "cell_type": "markdown",
   "metadata": {
    "id": "HSRnR075x12F"
   },
   "source": [
    "## Hard p2"
   ]
  },
  {
   "cell_type": "code",
   "execution_count": null,
   "metadata": {
    "colab": {
     "base_uri": "https://localhost:8080/"
    },
    "id": "S0iqnznReDDB",
    "outputId": "76ca8812-ca3b-43d7-ec05-140513f11167"
   },
   "outputs": [],
   "source": [
    "#Example in English\n",
    "query = \"What was the outcome of the disagreement between the ruling authorities in Pakistan and the Awami League over autonomy for East Pakistan?\"\n",
    "llm_response = qa_chain(query)\n",
    "process_llm_response(llm_response)"
   ]
  },
  {
   "cell_type": "code",
   "execution_count": null,
   "metadata": {
    "colab": {
     "base_uri": "https://localhost:8080/"
    },
    "id": "TnUYuRl7wgYp",
    "outputId": "6385498e-234c-46ba-dd80-f5a595291757"
   },
   "outputs": [],
   "source": [
    "#Example in English\n",
    "query = \"How does present-day Bangladesh compare to Pakistan?\"\n",
    "llm_response = qa_chain(query)\n",
    "process_llm_response(llm_response)"
   ]
  },
  {
   "cell_type": "code",
   "execution_count": null,
   "metadata": {
    "colab": {
     "base_uri": "https://localhost:8080/"
    },
    "id": "3jA82PpbwgWX",
    "outputId": "adeb93cc-fece-4263-9381-4bead50a8b72"
   },
   "outputs": [],
   "source": [
    "#Example in English\n",
    "query = \"What is the significance of the liberation war in the context of Bangladeshi history?\"\n",
    "llm_response = qa_chain(query)\n",
    "process_llm_response(llm_response)"
   ]
  },
  {
   "cell_type": "code",
   "execution_count": null,
   "metadata": {
    "colab": {
     "base_uri": "https://localhost:8080/"
    },
    "id": "qbfKZqdpwgUJ",
    "outputId": "aaf5f070-1008-45cd-caad-2b1bc8f21a39"
   },
   "outputs": [],
   "source": [
    "#Example in English\n",
    "query = \"Why did Suhrawardy stay in India instead of working in the Pakistani government?\"\n",
    "llm_response = qa_chain(query)\n",
    "process_llm_response(llm_response)"
   ]
  },
  {
   "cell_type": "code",
   "execution_count": null,
   "metadata": {
    "colab": {
     "base_uri": "https://localhost:8080/"
    },
    "id": "2c8O0KuzwgSH",
    "outputId": "9571d15f-3cbf-4062-e126-ae587274dea2"
   },
   "outputs": [],
   "source": [
    "#Example in English\n",
    "query = \"Did the migration during the partition result in the creation of new cultural and linguistic diasporas?\"\n",
    "llm_response = qa_chain(query)\n",
    "process_llm_response(llm_response)"
   ]
  },
  {
   "cell_type": "code",
   "execution_count": null,
   "metadata": {
    "colab": {
     "base_uri": "https://localhost:8080/"
    },
    "id": "3M_Cb7cawgP8",
    "outputId": "1b01d14d-9704-4a48-dc00-40bbd4a388d4"
   },
   "outputs": [],
   "source": [
    "#Example in English\n",
    "query = \"What was the outcome of the Language Movement?\"\n",
    "llm_response = qa_chain(query)\n",
    "process_llm_response(llm_response)"
   ]
  },
  {
   "cell_type": "code",
   "execution_count": null,
   "metadata": {
    "colab": {
     "base_uri": "https://localhost:8080/"
    },
    "id": "ZrHA9btLwgNZ",
    "outputId": "03012cd9-7bd8-4629-f3f2-f5d9af9f953a"
   },
   "outputs": [],
   "source": [
    "#Example in English\n",
    "query = \"What was the significance of the amendment motion moved by Dhirendranath Datta?\"\n",
    "llm_response = qa_chain(query)\n",
    "process_llm_response(llm_response)"
   ]
  },
  {
   "cell_type": "code",
   "execution_count": null,
   "metadata": {
    "colab": {
     "base_uri": "https://localhost:8080/"
    },
    "id": "RzlNiDB8wgLD",
    "outputId": "c19fca0d-467f-447f-fabb-4e2b6e3e617a"
   },
   "outputs": [],
   "source": [
    "#Example in English\n",
    "query = \"How has the liberation war shaped the mindset of Bangladeshi people?\"\n",
    "llm_response = qa_chain(query)\n",
    "process_llm_response(llm_response)"
   ]
  },
  {
   "cell_type": "code",
   "execution_count": null,
   "metadata": {
    "colab": {
     "base_uri": "https://localhost:8080/"
    },
    "id": "aFfo6IujwgI-",
    "outputId": "af27ae39-e9ab-47c3-e3e6-d8bff976dae7"
   },
   "outputs": [],
   "source": [
    "#Example in English\n",
    "query = \"Why is it important to understand the history of Pakistani colonialism to analyze present-day Bangladeshi politics and socio-economic sphere?\"\n",
    "llm_response = qa_chain(query)\n",
    "process_llm_response(llm_response)"
   ]
  },
  {
   "cell_type": "code",
   "execution_count": null,
   "metadata": {
    "colab": {
     "base_uri": "https://localhost:8080/"
    },
    "id": "g4vSOgzjwgGj",
    "outputId": "04b47c7b-1265-4bca-9adf-6436495a54f8"
   },
   "outputs": [],
   "source": [
    "#Example in English\n",
    "query = \"How did the creation of Pakistan impact the Indian subcontinent?\"\n",
    "llm_response = qa_chain(query)\n",
    "process_llm_response(llm_response)"
   ]
  },
  {
   "cell_type": "markdown",
   "metadata": {
    "id": "zCX38uYIyJhS"
   },
   "source": [
    "## Medium p2"
   ]
  },
  {
   "cell_type": "code",
   "execution_count": null,
   "metadata": {
    "colab": {
     "base_uri": "https://localhost:8080/"
    },
    "id": "8Zo-yNurwgD8",
    "outputId": "2a16f363-0eff-4271-84da-ca9648a3b852"
   },
   "outputs": [],
   "source": [
    "#Example in English\n",
    "query = \"What was the context of Mujib's repeated imprisonment by the military?\"\n",
    "llm_response = qa_chain(query)\n",
    "process_llm_response(llm_response)"
   ]
  },
  {
   "cell_type": "code",
   "execution_count": null,
   "metadata": {
    "colab": {
     "base_uri": "https://localhost:8080/"
    },
    "id": "z_WAdvFWwgBl",
    "outputId": "3069fcf2-38dd-4ac3-ebfc-c89ae73fa8c1"
   },
   "outputs": [],
   "source": [
    "#Example in English\n",
    "query = \"What happened as Bangladeshi retribution against the pro-Pakistani forces ensued?\"\n",
    "llm_response = qa_chain(query)\n",
    "process_llm_response(llm_response)"
   ]
  },
  {
   "cell_type": "code",
   "execution_count": null,
   "metadata": {
    "colab": {
     "base_uri": "https://localhost:8080/"
    },
    "id": "MYFcdZpCwf-_",
    "outputId": "eadc0e35-53f6-4bf3-f8b0-16fbbf19a7c5"
   },
   "outputs": [],
   "source": [
    "#Example in English\n",
    "query = \"What was 'the Mukti Sanggha'?\"\n",
    "llm_response = qa_chain(query)\n",
    "process_llm_response(llm_response)"
   ]
  },
  {
   "cell_type": "code",
   "execution_count": null,
   "metadata": {
    "colab": {
     "base_uri": "https://localhost:8080/"
    },
    "id": "oaYHOwzwwf8p",
    "outputId": "9a26e0a5-7883-448f-fc35-32d3397d8a3b"
   },
   "outputs": [],
   "source": [
    "#Example in English\n",
    "query = \"What responsibility was entrusted to Liaquat Ali Khan after the decision to partition of India was taken?\"\n",
    "llm_response = qa_chain(query)\n",
    "process_llm_response(llm_response)"
   ]
  },
  {
   "cell_type": "code",
   "execution_count": null,
   "metadata": {
    "colab": {
     "base_uri": "https://localhost:8080/"
    },
    "id": "U3V6W3BAwf6I",
    "outputId": "3d15d741-0028-4981-f70f-ccbf48cdadf1"
   },
   "outputs": [],
   "source": [
    "#Example in English\n",
    "query = \"Was the Lahore Resolution successful in achieving its goals?\"\n",
    "llm_response = qa_chain(query)\n",
    "process_llm_response(llm_response)"
   ]
  },
  {
   "cell_type": "code",
   "execution_count": null,
   "metadata": {
    "colab": {
     "base_uri": "https://localhost:8080/"
    },
    "id": "EaU1KdQ3wf4B",
    "outputId": "ec945efd-c48b-48e6-9277-f7513eb5ff05"
   },
   "outputs": [],
   "source": [
    "#Example in English\n",
    "query = \"What was the role of the constituent assembly in Pakistan?\"\n",
    "llm_response = qa_chain(query)\n",
    "process_llm_response(llm_response)"
   ]
  },
  {
   "cell_type": "code",
   "execution_count": null,
   "metadata": {
    "colab": {
     "base_uri": "https://localhost:8080/"
    },
    "id": "kMGjgdLRwf1o",
    "outputId": "c885b8d6-8bdc-4331-d45e-3bf666d82b7e"
   },
   "outputs": [],
   "source": [
    "#Example in English\n",
    "query = \"When did the Language Movement reach its climax?\"\n",
    "llm_response = qa_chain(query)\n",
    "process_llm_response(llm_response)"
   ]
  },
  {
   "cell_type": "code",
   "execution_count": null,
   "metadata": {
    "colab": {
     "base_uri": "https://localhost:8080/"
    },
    "id": "5jTj1jj1wfxO",
    "outputId": "13364b54-72ed-4d22-8ae2-abfc28dcbc68"
   },
   "outputs": [],
   "source": [
    "#Example in English\n",
    "query = \"What was the demand of the students and intellectuals of East Pakistan?\"\n",
    "llm_response = qa_chain(query)\n",
    "process_llm_response(llm_response)"
   ]
  },
  {
   "cell_type": "code",
   "execution_count": null,
   "metadata": {
    "colab": {
     "base_uri": "https://localhost:8080/"
    },
    "id": "pyrLifaqwfu9",
    "outputId": "f83c06f4-2813-48e8-a961-7e3df71dbe05"
   },
   "outputs": [],
   "source": [
    "#Example in English\n",
    "query = \"Who were the key players in the Language Movement?\"\n",
    "llm_response = qa_chain(query)\n",
    "process_llm_response(llm_response)"
   ]
  },
  {
   "cell_type": "code",
   "execution_count": null,
   "metadata": {
    "colab": {
     "base_uri": "https://localhost:8080/"
    },
    "id": "lQ0j7QaBwfsw",
    "outputId": "0744fa63-e73c-4926-c10f-93691b03a21c"
   },
   "outputs": [],
   "source": [
    "#Example in English\n",
    "query = \"What responsibility was entrusted to Liaquat Ali Khan after the decision to partition of India was taken?\"\n",
    "llm_response = qa_chain(query)\n",
    "process_llm_response(llm_response)"
   ]
  },
  {
   "cell_type": "markdown",
   "metadata": {
    "id": "gXOB6EuizL0x"
   },
   "source": [
    "## Easy p2"
   ]
  },
  {
   "cell_type": "code",
   "execution_count": null,
   "metadata": {
    "colab": {
     "base_uri": "https://localhost:8080/"
    },
    "id": "t_VfNVJwwfqU",
    "outputId": "1df07eac-a6da-4270-8928-464ebae070f9"
   },
   "outputs": [],
   "source": [
    "#Example in English\n",
    "query = \"Was the six-point demand for East Pakistani autonomy a historic demand?\"\n",
    "llm_response = qa_chain(query)\n",
    "process_llm_response(llm_response)"
   ]
  },
  {
   "cell_type": "code",
   "execution_count": null,
   "metadata": {
    "colab": {
     "base_uri": "https://localhost:8080/"
    },
    "id": "mWQHzQG0wfoF",
    "outputId": "bd503977-e5dd-461b-f01b-9550f12af5a2"
   },
   "outputs": [],
   "source": [
    "#Example in English\n",
    "query = \"What was Yahya Khan's role in Pakistan?\"\n",
    "llm_response = qa_chain(query)\n",
    "process_llm_response(llm_response)"
   ]
  },
  {
   "cell_type": "code",
   "execution_count": null,
   "metadata": {
    "colab": {
     "base_uri": "https://localhost:8080/"
    },
    "id": "o9bY4b5Vwflq",
    "outputId": "9e7a3578-6900-4492-da76-bfd36337478a"
   },
   "outputs": [],
   "source": [
    "#Example in English\n",
    "query = \"How many seats did the Awami League win in the 1970 elections in East Pakistan?\"\n",
    "llm_response = qa_chain(query)\n",
    "process_llm_response(llm_response)"
   ]
  },
  {
   "cell_type": "code",
   "execution_count": null,
   "metadata": {
    "colab": {
     "base_uri": "https://localhost:8080/"
    },
    "id": "J6Rqc3a9wfjR",
    "outputId": "cb0f35b8-9852-4900-941f-0548982aed13"
   },
   "outputs": [],
   "source": [
    "#Example in English\n",
    "query = \"Who is Liaquat Ali Khan?\"\n",
    "llm_response = qa_chain(query)\n",
    "process_llm_response(llm_response)"
   ]
  },
  {
   "cell_type": "code",
   "execution_count": null,
   "metadata": {
    "colab": {
     "base_uri": "https://localhost:8080/"
    },
    "id": "b8vp1FC6wfhB",
    "outputId": "909bc252-366f-4b51-9067-bb9fbb5bf5df"
   },
   "outputs": [],
   "source": [
    "#Example in English\n",
    "query = \"What was Yahya Khan's role in Pakistan?\"\n",
    "llm_response = qa_chain(query)\n",
    "process_llm_response(llm_response)"
   ]
  },
  {
   "cell_type": "code",
   "execution_count": null,
   "metadata": {
    "colab": {
     "base_uri": "https://localhost:8080/"
    },
    "id": "_FPNvR6Pwfem",
    "outputId": "ce72fd21-2c2d-4090-fd67-cf8a59af02e9"
   },
   "outputs": [],
   "source": [
    "#Example in English\n",
    "query = \"How many seats did the Awami League win in the 1970 elections in East Pakistan?\"\n",
    "llm_response = qa_chain(query)\n",
    "process_llm_response(llm_response)"
   ]
  },
  {
   "cell_type": "code",
   "execution_count": null,
   "metadata": {
    "colab": {
     "base_uri": "https://localhost:8080/"
    },
    "id": "dhRsyIV2wfca",
    "outputId": "e7288f7a-b6b8-4238-a740-cf3a2c043417"
   },
   "outputs": [],
   "source": [
    "#Example in English\n",
    "query = \"Who started a different resistance movement?\"\n",
    "llm_response = qa_chain(query)\n",
    "process_llm_response(llm_response)"
   ]
  },
  {
   "cell_type": "code",
   "execution_count": null,
   "metadata": {
    "colab": {
     "base_uri": "https://localhost:8080/"
    },
    "id": "UFCk_7JCwfaG",
    "outputId": "b41f96db-4f57-4dc1-cc75-4a4ca7692acb"
   },
   "outputs": [],
   "source": [
    "#Example in English\n",
    "query = \"Who replaced Yahya Khan as the leader of Pakistan after the conflict?\"\n",
    "llm_response = qa_chain(query)\n",
    "process_llm_response(llm_response)"
   ]
  },
  {
   "cell_type": "code",
   "execution_count": null,
   "metadata": {
    "colab": {
     "base_uri": "https://localhost:8080/"
    },
    "id": "JE8hQVuHwfXq",
    "outputId": "7aa7f41f-c904-46ac-c7e8-3aa9930830ca"
   },
   "outputs": [],
   "source": [
    "#Example in English\n",
    "query = \"What was the Bengali Razakar force called?\"\n",
    "llm_response = qa_chain(query)\n",
    "process_llm_response(llm_response)"
   ]
  },
  {
   "cell_type": "markdown",
   "metadata": {
    "id": "uSxaOw6C1XVO"
   },
   "source": [
    "## Hard p1"
   ]
  },
  {
   "cell_type": "code",
   "execution_count": null,
   "metadata": {
    "colab": {
     "base_uri": "https://localhost:8080/"
    },
    "id": "5y0UMI6SwfVL",
    "outputId": "b522fc5f-c12e-4b94-d380-a058078f1633"
   },
   "outputs": [],
   "source": [
    "#Example in English\n",
    "query = \"What was the impact of the partition on migration?\"\n",
    "llm_response = qa_chain(query)\n",
    "process_llm_response(llm_response)"
   ]
  },
  {
   "cell_type": "code",
   "execution_count": null,
   "metadata": {
    "colab": {
     "base_uri": "https://localhost:8080/"
    },
    "id": "_uAXMxv-wfS8",
    "outputId": "1e7e8f86-6b3f-4484-e471-d7f29b76b7f0"
   },
   "outputs": [],
   "source": [
    "#Example in English\n",
    "query = \"What was the attitude of the governments of India and Pakistan towards the migration during the partition?\"\n",
    "llm_response = qa_chain(query)\n",
    "process_llm_response(llm_response)"
   ]
  },
  {
   "cell_type": "code",
   "execution_count": null,
   "metadata": {
    "colab": {
     "base_uri": "https://localhost:8080/"
    },
    "id": "yhDnqYbQwfQn",
    "outputId": "5a54b5f1-760b-4b91-ed03-6ec71ba04043"
   },
   "outputs": [],
   "source": [
    "#Example in English\n",
    "query = \"Did the migration during the partition result in the formation of new communities and identities?\"\n",
    "llm_response = qa_chain(query)\n",
    "process_llm_response(llm_response)"
   ]
  },
  {
   "cell_type": "code",
   "execution_count": null,
   "metadata": {
    "colab": {
     "base_uri": "https://localhost:8080/"
    },
    "id": "OLODk7UVwfOX",
    "outputId": "464d64ae-5432-4047-eefb-eb9d76a3593e"
   },
   "outputs": [],
   "source": [
    "#Example in English\n",
    "query = \"Was the migration during the partition a spontaneous or organized process?\"\n",
    "llm_response = qa_chain(query)\n",
    "process_llm_response(llm_response)"
   ]
  },
  {
   "cell_type": "code",
   "execution_count": null,
   "metadata": {
    "colab": {
     "base_uri": "https://localhost:8080/"
    },
    "id": "UM3l1k4OwfL9",
    "outputId": "cda3fdcc-00b2-4a84-989d-393741a654af"
   },
   "outputs": [],
   "source": [
    "#Example in English\n",
    "query = \"What were some of the reasons for Bengali resentment towards the Pakistani government?\"\n",
    "llm_response = qa_chain(query)\n",
    "process_llm_response(llm_response)"
   ]
  },
  {
   "cell_type": "code",
   "execution_count": null,
   "metadata": {
    "colab": {
     "base_uri": "https://localhost:8080/"
    },
    "id": "AZ_kslkAwfJr",
    "outputId": "f12d7f59-9363-4a91-9576-5cfa63b1d308"
   },
   "outputs": [],
   "source": [
    "#Example in English\n",
    "query = \"What was the attitude of the Pakistani government towards the appropriation of provincial functions and revenue?\"\n",
    "llm_response = qa_chain(query)\n",
    "process_llm_response(llm_response)"
   ]
  },
  {
   "cell_type": "code",
   "execution_count": null,
   "metadata": {
    "colab": {
     "base_uri": "https://localhost:8080/"
    },
    "id": "SmpOPC08wfHJ",
    "outputId": "b5d12a9b-5543-4db5-d5fd-d4e5ae2d1868"
   },
   "outputs": [],
   "source": [
    "#Example in English\n",
    "query = \"What was the overriding common interest of the two parts of Pakistan?\"\n",
    "llm_response = qa_chain(query)\n",
    "process_llm_response(llm_response)"
   ]
  },
  {
   "cell_type": "code",
   "execution_count": null,
   "metadata": {
    "colab": {
     "base_uri": "https://localhost:8080/"
    },
    "id": "zRIdpQOTwfE5",
    "outputId": "3183d1c8-b53f-4214-e5e6-b839ccc60415"
   },
   "outputs": [],
   "source": [
    "#Example in English\n",
    "query = \"What was the result of Ghulam Mohammad's consolidation of power?\"\n",
    "llm_response = qa_chain(query)\n",
    "process_llm_response(llm_response)"
   ]
  },
  {
   "cell_type": "code",
   "execution_count": null,
   "metadata": {
    "colab": {
     "base_uri": "https://localhost:8080/"
    },
    "id": "Lohwiy0HwfCi",
    "outputId": "3f1a9098-8bee-4bdd-cd78-c6b59095b0c4"
   },
   "outputs": [],
   "source": [
    "#Example in English\n",
    "query = \"What was the common interest that the two parts of Pakistan shared in the early years of the country's formation?\"\n",
    "llm_response = qa_chain(query)\n",
    "process_llm_response(llm_response)"
   ]
  },
  {
   "cell_type": "code",
   "execution_count": null,
   "metadata": {
    "colab": {
     "base_uri": "https://localhost:8080/"
    },
    "id": "k7yFviDVwfAO",
    "outputId": "0665b9ea-b4e6-47ff-94ae-ccbd6c8cd979"
   },
   "outputs": [],
   "source": [
    "#Example in English\n",
    "query = \"What was the role of the United States in the conflict between India and Pakistan?\"\n",
    "llm_response = qa_chain(query)\n",
    "process_llm_response(llm_response)"
   ]
  },
  {
   "cell_type": "markdown",
   "metadata": {
    "id": "hmxysAE97BZX"
   },
   "source": [
    "## Medium p1"
   ]
  },
  {
   "cell_type": "code",
   "execution_count": null,
   "metadata": {
    "colab": {
     "base_uri": "https://localhost:8080/"
    },
    "id": "xhKPP2qYwe-B",
    "outputId": "8a770be0-b106-4461-eb4a-6946c6ea949d"
   },
   "outputs": [],
   "source": [
    "#Example in English\n",
    "query = \"How were the frontiers of East Bengal ultimately determined?\"\n",
    "llm_response = qa_chain(query)\n",
    "process_llm_response(llm_response)"
   ]
  },
  {
   "cell_type": "code",
   "execution_count": null,
   "metadata": {
    "colab": {
     "base_uri": "https://localhost:8080/"
    },
    "id": "hNVREx2ewe76",
    "outputId": "886f1227-82cf-47e6-8b1e-ba13f784f43e"
   },
   "outputs": [],
   "source": [
    "#Example in English\n",
    "query = \"What was the outcome of the referendum in Sylhet?\"\n",
    "llm_response = qa_chain(query)\n",
    "process_llm_response(llm_response)"
   ]
  },
  {
   "cell_type": "code",
   "execution_count": null,
   "metadata": {
    "colab": {
     "base_uri": "https://localhost:8080/"
    },
    "id": "OrXqfAnlwe5b",
    "outputId": "4c828719-40b0-4f66-c444-1ebb245fa1fc"
   },
   "outputs": [],
   "source": [
    "#Example in English\n",
    "query = \"Was the delimitation of East Bengal a smooth and uncontroversial process?\"\n",
    "llm_response = qa_chain(query)\n",
    "process_llm_response(llm_response)"
   ]
  },
  {
   "cell_type": "code",
   "execution_count": null,
   "metadata": {
    "colab": {
     "base_uri": "https://localhost:8080/"
    },
    "id": "fyB6NM5Bwe3L",
    "outputId": "f989f710-8d8c-49e7-a410-a30a40049d95"
   },
   "outputs": [],
   "source": [
    "#Example in English\n",
    "query = \"Why did people move into what they perceived as a place of refuge?\"\n",
    "llm_response = qa_chain(query)\n",
    "process_llm_response(llm_response)"
   ]
  },
  {
   "cell_type": "code",
   "execution_count": null,
   "metadata": {
    "colab": {
     "base_uri": "https://localhost:8080/"
    },
    "id": "XFehOfdfwe00",
    "outputId": "bdc836fd-90c6-4ea9-a6d6-baaf6f55bd4c"
   },
   "outputs": [],
   "source": [
    "#Example in English\n",
    "query = \"Was migration during the partition a one-time event or a prolonged process?\"\n",
    "llm_response = qa_chain(query)\n",
    "process_llm_response(llm_response)"
   ]
  },
  {
   "cell_type": "code",
   "execution_count": null,
   "metadata": {
    "colab": {
     "base_uri": "https://localhost:8080/"
    },
    "id": "mz-4yH4kweyl",
    "outputId": "d24fff73-7e7f-4fa3-e0f5-c2f5f37f4b10"
   },
   "outputs": [],
   "source": [
    "#Example in English\n",
    "query = \"What was the main reason for the migration during the partition?\"\n",
    "llm_response = qa_chain(query)\n",
    "process_llm_response(llm_response)"
   ]
  },
  {
   "cell_type": "code",
   "execution_count": null,
   "metadata": {
    "colab": {
     "base_uri": "https://localhost:8080/"
    },
    "id": "GjeGmAIawewO",
    "outputId": "00f18a63-eada-46e1-815e-e14a934a1bb0"
   },
   "outputs": [],
   "source": [
    "#Example in English\n",
    "query = \"What was the initial system of government in Pakistan?\"\n",
    "llm_response = qa_chain(query)\n",
    "process_llm_response(llm_response)"
   ]
  },
  {
   "cell_type": "code",
   "execution_count": null,
   "metadata": {
    "colab": {
     "base_uri": "https://localhost:8080/"
    },
    "id": "8WFlTp6wwet2",
    "outputId": "873621b9-57c5-48a5-b691-94ad39db57b9"
   },
   "outputs": [],
   "source": [
    "#Example in English\n",
    "query = \"What was the common interest of the two parts of Pakistan?\"\n",
    "llm_response = qa_chain(query)\n",
    "process_llm_response(llm_response)"
   ]
  },
  {
   "cell_type": "code",
   "execution_count": null,
   "metadata": {
    "colab": {
     "base_uri": "https://localhost:8080/"
    },
    "id": "cL6N_fINwerg",
    "outputId": "79b1dc31-066d-4fde-f245-051fc453fb27"
   },
   "outputs": [],
   "source": [
    "#Example in English\n",
    "query = \"What was the outcome of Mujib's demand for East Pakistani autonomy?\"\n",
    "llm_response = qa_chain(query)\n",
    "process_llm_response(llm_response)"
   ]
  },
  {
   "cell_type": "markdown",
   "metadata": {
    "id": "d8mPZoyZ7q8Q"
   },
   "source": [
    "## Easy p1"
   ]
  },
  {
   "cell_type": "code",
   "execution_count": null,
   "metadata": {
    "colab": {
     "base_uri": "https://localhost:8080/"
    },
    "id": "-gXM6I_dwepS",
    "outputId": "b7376118-acdd-423b-b004-4044d2b11b29"
   },
   "outputs": [],
   "source": [
    "#Example in English\n",
    "query = \"What were the boundaries of East Bengal based on?\"\n",
    "llm_response = qa_chain(query)\n",
    "process_llm_response(llm_response)"
   ]
  },
  {
   "cell_type": "code",
   "execution_count": null,
   "metadata": {
    "colab": {
     "base_uri": "https://localhost:8080/"
    },
    "id": "NeRxC-d5wemw",
    "outputId": "207c30ff-25dd-49c1-b6b4-d73789c861f7"
   },
   "outputs": [],
   "source": [
    "#Example in English\n",
    "query = \"What language did Jinnah and his advisers believe could achieve unification in Pakistan?\"\n",
    "llm_response = qa_chain(query)\n",
    "process_llm_response(llm_response)"
   ]
  },
  {
   "cell_type": "code",
   "execution_count": null,
   "metadata": {
    "colab": {
     "base_uri": "https://localhost:8080/"
    },
    "id": "R_wF0RqfwekX",
    "outputId": "faeaa788-4903-4b89-e843-26606124096a"
   },
   "outputs": [],
   "source": [
    "#Example in English\n",
    "query = \"Who was appointed as the prime minister after the adoption of the new constitution, in east Pakistan?\"\n",
    "llm_response = qa_chain(query)\n",
    "process_llm_response(llm_response)"
   ]
  },
  {
   "cell_type": "code",
   "execution_count": null,
   "metadata": {
    "colab": {
     "base_uri": "https://localhost:8080/"
    },
    "id": "5kKIdictweiQ",
    "outputId": "b323c5e0-a103-4699-d0be-e6a0ed3ecad5"
   },
   "outputs": [],
   "source": [
    "#Example in English\n",
    "query = \"What country was Pakistan part of in 1947?\"\n",
    "llm_response = qa_chain(query)\n",
    "process_llm_response(llm_response)"
   ]
  },
  {
   "cell_type": "code",
   "execution_count": null,
   "metadata": {
    "colab": {
     "base_uri": "https://localhost:8080/"
    },
    "id": "vdM1dNB5wef1",
    "outputId": "ed9f44f7-15a6-43bf-bad0-f11a4e13fdfa"
   },
   "outputs": [],
   "source": [
    "#Example in English\n",
    "query = \"Who became the leading figure of the Awami League after Suhrawardy's death in 1963?\"\n",
    "llm_response = qa_chain(query)\n",
    "process_llm_response(llm_response)"
   ]
  },
  {
   "cell_type": "code",
   "execution_count": null,
   "metadata": {
    "colab": {
     "base_uri": "https://localhost:8080/"
    },
    "id": "0dPja1m7wedE",
    "outputId": "3e81e149-575e-471b-bbd7-f60e82b0960a"
   },
   "outputs": [],
   "source": [
    "#Example in English\n",
    "query = \"What was Mujibur Rahman's popular name?\"\n",
    "llm_response = qa_chain(query)\n",
    "process_llm_response(llm_response)"
   ]
  },
  {
   "cell_type": "code",
   "execution_count": null,
   "metadata": {
    "colab": {
     "base_uri": "https://localhost:8080/"
    },
    "id": "N6K184VbweXO",
    "outputId": "bd567a1f-4d2c-4e80-bd4a-f46e7faae9ec"
   },
   "outputs": [],
   "source": [
    "#Example in English\n",
    "query = \"Who ordered the elections in Pakistan in December 1970?\"\n",
    "llm_response = qa_chain(query)\n",
    "process_llm_response(llm_response)"
   ]
  },
  {
   "cell_type": "code",
   "execution_count": null,
   "metadata": {
    "colab": {
     "base_uri": "https://localhost:8080/"
    },
    "id": "ZFtjAo-EweLD",
    "outputId": "0e77cd78-70cc-4ae5-9264-aa5c1bb282e2"
   },
   "outputs": [],
   "source": [
    "#Example in English\n",
    "query = \"Was equal recruitment from the two wings national policy?\"\n",
    "llm_response = qa_chain(query)\n",
    "process_llm_response(llm_response)"
   ]
  },
  {
   "cell_type": "code",
   "execution_count": null,
   "metadata": {
    "colab": {
     "base_uri": "https://localhost:8080/"
    },
    "id": "LKvVShVY8QQ9",
    "outputId": "45e85c62-59b2-4ed5-a679-f790583780c0"
   },
   "outputs": [],
   "source": [
    "#Example in English\n",
    "query = \"Who came to power in Pakistan in 1958?\"\n",
    "llm_response = qa_chain(query)\n",
    "process_llm_response(llm_response)"
   ]
  },
  {
   "cell_type": "code",
   "execution_count": null,
   "metadata": {
    "colab": {
     "base_uri": "https://localhost:8080/"
    },
    "id": "nYHSJBE28RHL",
    "outputId": "e6988073-32c2-4aa8-d149-2a879ee9ccf4"
   },
   "outputs": [],
   "source": [
    "#Example in English\n",
    "query = \"Who was the leader of the Pakistan People's Party in the 1970 elections?\"\n",
    "llm_response = qa_chain(query)\n",
    "process_llm_response(llm_response)"
   ]
  },
  {
   "cell_type": "markdown",
   "metadata": {
    "id": "c6gL6HcK-spS"
   },
   "source": [
    "QA from Excel"
   ]
  },
  {
   "cell_type": "code",
   "execution_count": null,
   "metadata": {
    "id": "TSqc9UnpHh_v"
   },
   "outputs": [],
   "source": [
    "# import pandas as pd\n",
    "\n",
    "# # Read the Excel file\n",
    "# df = pd.read_excel('your_file_name.xlsx')\n",
    "\n",
    "# # Iterate over each row in the dataframe\n",
    "# for index, row in df.iterrows():\n",
    "#     # Get the query from the 'Question' column\n",
    "#     query = row['Question']\n",
    "\n",
    "#     # Get the LLM response\n",
    "#     llm_response = qa_chain(query)\n",
    "\n",
    "#     # Process the LLM response\n",
    "#     answer = process_llm_response(llm_response)\n",
    "\n",
    "#     # Write the answer to the 'EkattorAns' column\n",
    "#     df.at[index, 'EkattorAns'] = answer\n",
    "\n",
    "# # Save the modified dataframe to a new Excel file\n",
    "# df.to_excel('modified_file_name.xlsx', index=False)\n"
   ]
  }
 ],
 "metadata": {
  "accelerator": "GPU",
  "colab": {
   "gpuType": "A100",
   "machine_shape": "hm",
   "provenance": []
  },
  "kernelspec": {
   "display_name": "Python 3",
   "name": "python3"
  },
  "language_info": {
   "name": "python"
  }
 },
 "nbformat": 4,
 "nbformat_minor": 0
}
